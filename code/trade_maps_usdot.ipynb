{
 "cells": [
  {
   "metadata": {},
   "cell_type": "markdown",
   "source": [
    "<H1>Creating Highway Maps in Python</H1>\n",
    "<h2>Planned Files:</h2>\n",
    "1. There will be one file for highways\n",
    "<br>\n",
    "2. One for the port maps, and\n",
    "<br>\n",
    "3. The final project will have them combined.\n",
    "<br>\n",
    "The final product should have multiple options for the size of the shape in each port with an overlap for the map of the US."
   ],
   "id": "17f780874e1b9600"
  },
  {
   "metadata": {
    "ExecuteTime": {
     "end_time": "2025-03-25T20:16:30.548473Z",
     "start_time": "2025-03-25T20:16:30.545407Z"
    }
   },
   "cell_type": "code",
   "source": [
    "from functions import install_packages\n",
    "from functions import path_to_project_root\n",
    "import os\n",
    "\n",
    "install_packages([\"numpy\", \"pandas\", \"geopandas\", \"shapely\", \"plotly.express\", \"plotly.graph_objects\"])\n",
    "\n",
    "import plotly.express as px\n",
    "import plotly.graph_objects as go\n",
    "import geopandas as gpd\n",
    "import shapely.geometry\n",
    "import numpy as np\n",
    "\n",
    "\n",
    "project_path = path_to_project_root(\"python_trade_maps\")\n",
    "data_path = os.path.join(project_path, \"data\")\n",
    "\n",
    "print(str(data_path))"
   ],
   "id": "67b6f93793194ea8",
   "outputs": [
    {
     "name": "stdout",
     "output_type": "stream",
     "text": [
      "numpy\n",
      "pandas\n",
      "geopandas\n",
      "shapely\n",
      "plotly.express\n",
      "plotly.graph_objects\n",
      "/Users/brendan/python_trade_maps\n",
      "/Users/brendan/python_trade_maps/data\n"
     ]
    }
   ],
   "execution_count": 101
  },
  {
   "metadata": {
    "ExecuteTime": {
     "end_time": "2025-03-25T20:32:50.251278Z",
     "start_time": "2025-03-25T20:32:50.198532Z"
    }
   },
   "cell_type": "code",
   "source": [
    "geo_highways_df = gpd.read_file(data_path + \"/us_interstate_highways.dbf\")\n",
    "geo_ports_df = gpd.read_file(data_path + \"/ports_x010g.dbf\")\n",
    "\n",
    "print(geo_ports_df.head())\n"
   ],
   "id": "fc815a14aa8bccf2",
   "outputs": [
    {
     "name": "stdout",
     "output_type": "stream",
     "text": [
      "                   NAME         WATERWAY STATE STATE_FIPS  GNIS_ID  \\\n",
      "0      Little Rock Port   Arkansas River    AR         05    68714   \n",
      "1     Port of Chickasaw  Chickasaw Creek    AL         01   143671   \n",
      "2  Port of Redwood City    Redwood Creek    CA         06   230945   \n",
      "3        Port Canaveral     Banana River    FL         12   289232   \n",
      "4                 Tampa        Tampa Bay    FL         12        0   \n",
      "\n",
      "              GNIS_NAME      SOURCE         SECONDARY_  SOURCE_LAT  \\\n",
      "0      Little Rock Port  GNIS_PORTS               None   34.718425   \n",
      "1     Port of Chickasaw  GNIS_PORTS       Mobile River   30.766855   \n",
      "2  Port of Redwood City  GNIS_PORTS  San Francisco Bay   37.513270   \n",
      "3        Port Canaveral  GNIS_PORTS     Atlantic Coast   28.411392   \n",
      "4                  None       USACE   Hillsborough Bay    0.000000   \n",
      "\n",
      "   SOURCE_LON        LAT        LONG  \n",
      "0  -92.173758  34.718307  -92.173781  \n",
      "1  -88.058333  30.766849  -88.058328  \n",
      "2 -122.208577  37.513265 -122.208563  \n",
      "3  -80.608107  28.411392  -80.608107  \n",
      "4    0.000000  27.862797  -82.545926  \n"
     ]
    }
   ],
   "execution_count": 104
  },
  {
   "metadata": {
    "jupyter": {
     "is_executing": true
    },
    "ExecuteTime": {
     "start_time": "2025-03-27T13:33:39.571888Z"
    }
   },
   "cell_type": "code",
   "source": [
    "lats = []\n",
    "lons = []\n",
    "names = []\n",
    "\n",
    "for feature, name in zip(geo_highways_df.geometry, geo_highways_df.name):\n",
    "    if isinstance(feature, shapely.geometry.linestring.LineString):\n",
    "        linestrings = [feature]\n",
    "    elif isinstance(feature, shapely.geometry.multilinestring.MultiLineString):\n",
    "        linestrings = feature.geoms\n",
    "    else:\n",
    "        continue\n",
    "    for linestring in linestrings:\n",
    "        x, y = linestring.xy\n",
    "        lats = np.append(lats, y)\n",
    "        lons = np.append(lons, x)\n",
    "        names = np.append(names, [name]*len(y))\n",
    "        lats = np.append(lats, None)\n",
    "        lons = np.append(lons, None)\n",
    "        names = np.append(names, None)\n",
    "\n",
    "fig_highways = px.line_geo(lat=lats, lon=lons, scope=\"North America\" )\n",
    "fig_highways.show()"
   ],
   "id": "f4ca5c0c6696978",
   "outputs": [],
   "execution_count": null
  },
  {
   "metadata": {},
   "cell_type": "code",
   "outputs": [],
   "execution_count": null,
   "source": "",
   "id": "f076e09a4c976501"
  }
 ],
 "metadata": {
  "kernelspec": {
   "display_name": "Python 3",
   "language": "python",
   "name": "python3"
  },
  "language_info": {
   "codemirror_mode": {
    "name": "ipython",
    "version": 2
   },
   "file_extension": ".py",
   "mimetype": "text/x-python",
   "name": "python",
   "nbconvert_exporter": "python",
   "pygments_lexer": "ipython2",
   "version": "2.7.6"
  }
 },
 "nbformat": 4,
 "nbformat_minor": 5
}
